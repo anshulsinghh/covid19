{
 "cells": [
  {
   "cell_type": "code",
   "execution_count": 2,
   "metadata": {},
   "outputs": [
    {
     "name": "stdout",
     "output_type": "stream",
     "text": [
      "[5 5 5 8 8 5 5 6 6 6 1 5 4 6 3 6 6 5 7 5 5 6 5 6 8 3 1 5 4 3 5 4 5 7 4 5 4\n",
      " 7 8 6 2 6 4 1 5 5 8 4 4 6 4 7 5 5 2 4 5 4 6 7 4 8 5 3 6 5 6 7 4 4 2 3 2 3\n",
      " 5 5 5 4 5 6 6 4 6 5 2 5 6 6 4 5 6 5 7 4 5 3 3 4 4 3 6 7 6 6 4 2 7 2 3 4 7\n",
      " 4 9 2 4 6 7 4 4 7 7 6 4 5 4 2 5 5 4 8 5 6 6 6 5 4 5 5 3 3 8 5 6 7 5 4 6 6\n",
      " 6 3 5 6 6 7 3 2 5 6 7 6 5 6 4 5 5 6 3 5 5 6 3 5 3 2 4 7 4 4 7 5 6 8 5 6 5\n",
      " 5 3 6 5 6 5 6 2 3 5 4 6 6 4 5 7 4 6 3 6 5 6 4 5 2 6 5 5 3 7 6 7 4 4 4 4 6\n",
      " 4 7 6 5 7 5 6 6 5 6 5 4 5 6 5 5 3 7 4 5 4 4 6 7 5 6 3 5 6 4 4 5 6 5 7 6 6\n",
      " 5 7 6 5 5 8 4 6 4 3 6 5 6 3 4 7 7 4 5 6 5 6 5 5 4 4 3 3 5 6 8 4 7 4 4 7 4\n",
      " 4 7 4 8 5 4 6 3 7 7 8 4 6 3 7 5 3 3 6 7 2 6 6 5 7 7 6 6 4 4 4 3 6 4 7 4 1\n",
      " 6 3 2 4 2 3 4 5 5 5 6 5 4 4 5 4 6 4 8 7 5 4 6 6 2 6 6 4 4 6 2 7 4 4 5 5 4\n",
      " 5 5 3 4 1 5 6 5 4 7 5 7 6 8 4 6 3 5 4 5 4 5 2 5 5 2 6 3 3 7 8 6 4 5 3 4 2\n",
      " 5 6 6 3 4 7 5 6 8 5 5 4 5 8 8 5 4 4 4 4 4 5 5 5 3 5 5 5 3 6 4 2 5 5 3 5 5\n",
      " 5 7 6 5 7 4 3 5 4 7 6 8 3 5 7 5 9 4 4 4 5 8 7 6 3 7 4 6 8 3 5 4 4 6 3 6 1\n",
      " 6 4 6 4 6 7 6 3 5 4 4 5 4 4 4 7 4 7 6 7 7 7 8 4 6 5 3 6 7 4 5 4 6 9 5 7 3\n",
      " 5 4 6 5 6 7 4 3 4 2 3 6 8 2 5 6 3 5 4 5 8 2 6 5 8 5 2 5 6 6 5 4 7 5 6 8 6\n",
      " 6 7 7 4 6 7 4 3 3 8 6 4 4 5 6 5 7 4 7 3 7 5 5 5 3 5 4 6 2 5 3 7 0 7 4 3 4\n",
      " 2 5 8 6 5 2 6 3 4 6 4 8 4 6 4 4 7 7 9 9 6 5 4 7 5 3 6 2 5 4 5 5 7 5 6 6 4\n",
      " 7 6 4 6 5 3 5 5 6 4 5 5 5 6 6 6 5 6 5 5 3 5 3 5 3 5 7 4 2 5 4 5 6 8 3 4 8\n",
      " 5 4 4 6 4 7 6 5 5 6 8 4 3 6 7 6 8 6 6 4 5 3 4 5 4 4 6 5 4 7 6 6 0 4 6 7 6\n",
      " 7 6 5 1 5 5 6 8 7 2 5 4 4 8 7 3 6 6 2 4 5 4 5 5 6 4 5 3 2 4 5 8 1 6 4 5 4\n",
      " 4 4 8 7 2 6 5 4 6 6 4 4 6 6 3 8 7 7 3 6 6 3 5 4 6 4 7 5 4 4 3 2 4 5 4 6 6\n",
      " 4 4 3 3 7 5 4 3 5 4 5 8 3 7 4 6 4 7 5 3 5 5 4 6 3 4 7 3 4 9 4 7 6 4 1 6 3\n",
      " 5 6 6 5 5 5 5 4 4 2 5 7 5 4 2 8 4 6 4 2 3 3 3 4 6 7 6 3 6 3 6 6 7 6 5 7 5\n",
      " 6 5 7 7 4 5 7 4 5 4 4 6 4 5 6 6 5 7 2 8 3 6 7 6 5 7 7 5 4 5 4 6 3 5 6 2 4\n",
      " 6 3 4 5 6 6 4 5 5 3 6 6 6 6 5 5 5 6 5 8 4 4 6 6 8 6 7 4 5 4 5 7 4 3 8 8 4\n",
      " 6 6 5 5 6 7 4 5 5 5 6 6 6 2 6 7 3 4 5 5 4 7 4 5 6 3 7 4 3 7 6 5 5 2 4 6 5\n",
      " 7 2 5 5 6 5 3 3 5 5 5 2 3 5 5 5 5 5 6 3 5 5 3 5 4 5 7 6 6 3 2 5 7 7 4 4 6\n",
      " 6]\n"
     ]
    }
   ],
   "source": [
    "import numpy as np\n",
    "\n",
    "n, p = 10, .5  # number of trials, probability of each trial\n",
    "s = np.random.binomial(n, p, 1000)\n",
    "# result of flipping a coin 10 times, tested 1000 times.\n",
    "\n",
    "print(s)"
   ]
  },
  {
   "cell_type": "code",
   "execution_count": 7,
   "metadata": {},
   "outputs": [
    {
     "data": {
      "image/png": "[encoded data removed]",
      "text/plain": [
       "<Figure size 432x288 with 1 Axes>"
      ]
     },
     "metadata": {
      "needs_background": "light"
     },
     "output_type": "display_data"
    }
   ],
   "source": [
    "import matplotlib.mlab as mlab\n",
    "import matplotlib.pyplot as plt\n",
    "\n",
    "x = s\n",
    "num_bins = 5\n",
    "n, bins, patches = plt.hist(x, num_bins, facecolor='blue', alpha=0.5)\n",
    "plt.show()"
   ]
  },
  {
   "cell_type": "code",
   "execution_count": null,
   "metadata": {},
   "outputs": [],
   "source": []
  }
 ],
 "metadata": {
  "kernelspec": {
   "display_name": "Python 3",
   "language": "python",
   "name": "python3"
  },
  "language_info": {
   "codemirror_mode": {
    "name": "ipython",
    "version": 3
   },
   "file_extension": ".py",
   "mimetype": "text/x-python",
   "name": "python",
   "nbconvert_exporter": "python",
   "pygments_lexer": "ipython3",
   "version": "3.7.6"
  }
 },
 "nbformat": 4,
 "nbformat_minor": 4
}
